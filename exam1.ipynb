{
  "cells": [
    {
      "cell_type": "markdown",
      "metadata": {
        "id": "view-in-github",
        "colab_type": "text"
      },
      "source": [
        "<a href=\"https://colab.research.google.com/github/jyyvv/CCDATRCL-EXAM-COM222/blob/main/exam1.ipynb\" target=\"_parent\"><img src=\"https://colab.research.google.com/assets/colab-badge.svg\" alt=\"Open In Colab\"/></a>"
      ]
    },
    {
      "cell_type": "markdown",
      "metadata": {
        "id": "yaz2B0KGFehP"
      },
      "source": [
        "# Midterm Exam 💛💙"
      ]
    },
    {
      "cell_type": "markdown",
      "metadata": {
        "id": "_DmK1ONEFehQ"
      },
      "source": [
        "**Instructions** ❗️❗️\n",
        "\n",
        "❌ Do not remove or modify the notebook **sections**, **subsections**, **exam questions** or **any text** in this python notebook\n",
        "\n",
        "✔️ Put your answer in the designated cells below each question"
      ]
    },
    {
      "cell_type": "markdown",
      "metadata": {
        "id": "TMCAXKWCFehR"
      },
      "source": [
        "## Search"
      ]
    },
    {
      "cell_type": "code",
      "execution_count": null,
      "metadata": {
        "id": "Fy8nEBRRFehR"
      },
      "outputs": [],
      "source": [
        "def linearSearch(my_list, number):\n",
        "\n",
        "    index = 0\n",
        "\n",
        "    for i in my_list:\n",
        "\n",
        "        if my_list[index] == number:\n",
        "            return index\n",
        "\n",
        "        index = index + 1\n",
        "\n",
        "    return -1"
      ]
    },
    {
      "cell_type": "markdown",
      "metadata": {
        "id": "AjAevpueFehS"
      },
      "source": [
        "1. Using **linear search**, write a `findLargestIncrease()` function to find the largest increase in value between two adjacent numbers in your student number `(10 points)`\n",
        "\n",
        "    **Example:**\n",
        "\n",
        "    student_number = [2,0,2,2,6,2,5,1,9,3]\n",
        "\n",
        "    **Expected Output:**\n",
        "\n",
        "    findLargestIncrease(student_number)\n",
        "\n",
        "    Output: Between 1 and 9\n",
        "\n",
        "    **Explanation:**\n",
        "\n",
        "    From this student_number, the largest increase happened from number 1 to number 9"
      ]
    },
    {
      "cell_type": "code",
      "execution_count": 4,
      "metadata": {
        "id": "JE8nEfyJFehS",
        "outputId": "7341c507-3c3c-4fc6-8099-7a4eba1d07a0",
        "colab": {
          "base_uri": "https://localhost:8080/"
        }
      },
      "outputs": [
        {
          "output_type": "stream",
          "name": "stdout",
          "text": [
            "Output: Between 0 and 5\n"
          ]
        }
      ],
      "source": [
        "def linearSearch(my_list, number):\n",
        "    index = 0\n",
        "    for i in my_list:\n",
        "        if my_list[index] == number:\n",
        "            return index\n",
        "        index = index + 1\n",
        "    return -1\n",
        "\n",
        "def findLargestIncrease(student_number):\n",
        "    max_increase = 0\n",
        "    start_index = 0\n",
        "    end_index = 0\n",
        "\n",
        "    for i in range(len(student_number) - 1):\n",
        "        increase = student_number[i + 1] - student_number[i]\n",
        "        if increase > max_increase:\n",
        "            max_increase = increase\n",
        "            start_index = i\n",
        "            end_index = i + 1\n",
        "\n",
        "    if max_increase > 0:\n",
        "        return f\"Between {student_number[start_index]} and {student_number[end_index]}\"\n",
        "    else:\n",
        "        return \"No increase found\"\n",
        "\n",
        "student_number = [2, 0, 2, 2, 1, 0, 3, 0, 5, 3]\n",
        "result = findLargestIncrease(student_number)\n",
        "print(\"Output:\", result)\n"
      ]
    },
    {
      "cell_type": "markdown",
      "metadata": {
        "id": "nMyr1fNyFehS"
      },
      "source": [
        "2. Using **linear search**, write a `findLargestDecrease()` function to find the largest decrease in value between two adjacent numbers in your student number `(10 points)`\n",
        "\n",
        "    **Example:**\n",
        "\n",
        "    student_number = [2,0,2,2,6,2,5,1,9,3]\n",
        "\n",
        "    **Expected Output:**\n",
        "\n",
        "    findLargestDecrease(student_number)\n",
        "\n",
        "    Output: Between 9 and 3\n",
        "\n",
        "    **Explanation:**\n",
        "\n",
        "    From this student_number, the largest decrease happened from number 9 to number 3"
      ]
    },
    {
      "cell_type": "code",
      "execution_count": 5,
      "metadata": {
        "id": "bfMfQVbVFehS",
        "outputId": "8804f3ad-a4a9-4c05-fbdc-f786f697e638",
        "colab": {
          "base_uri": "https://localhost:8080/"
        }
      },
      "outputs": [
        {
          "output_type": "stream",
          "name": "stdout",
          "text": [
            "Output: Between 3 and 0\n"
          ]
        }
      ],
      "source": [
        "def linearSearch(my_list, number):\n",
        "    index = 0\n",
        "    for i in my_list:\n",
        "        if my_list[index] == number:\n",
        "            return index\n",
        "        index = index + 1\n",
        "    return -1\n",
        "\n",
        "def findLargestDecrease(student_number):\n",
        "    max_decrease = 0\n",
        "    start_index = 0\n",
        "    end_index = 0\n",
        "\n",
        "    for i in range(len(student_number) - 1):\n",
        "        decrease = student_number[i] - student_number[i + 1]\n",
        "        if decrease > max_decrease:\n",
        "            max_decrease = decrease\n",
        "            start_index = i\n",
        "            end_index = i + 1\n",
        "\n",
        "    if max_decrease > 0:\n",
        "        return f\"Between {student_number[start_index]} and {student_number[end_index]}\"\n",
        "    else:\n",
        "        return \"No decrease found\"\n",
        "\n",
        "student_number = [2, 0, 2, 2, 1, 0, 3, 0, 5, 3]\n",
        "result = findLargestDecrease(student_number)\n",
        "print(\"Output:\", result)\n"
      ]
    },
    {
      "cell_type": "markdown",
      "metadata": {
        "id": "NtKSQn9QFehS"
      },
      "source": [
        "## Linked List"
      ]
    },
    {
      "cell_type": "code",
      "execution_count": 6,
      "metadata": {
        "id": "0HP5zyJcFehS"
      },
      "outputs": [],
      "source": [
        "class Node:\n",
        "\n",
        "    def __init__(self, data):\n",
        "        self.data = data\n",
        "        self.next = None  # null"
      ]
    },
    {
      "cell_type": "code",
      "execution_count": null,
      "metadata": {
        "id": "A-8Uefe7FehS"
      },
      "outputs": [],
      "source": [
        "class LinkedList:\n",
        "\n",
        "    def __init__(self):\n",
        "        self.head = None\n",
        "\n",
        "    def traverse(self, node):\n",
        "        while node:\n",
        "            print(node.data, end=\" -> \")\n",
        "            node = node.next"
      ]
    },
    {
      "cell_type": "markdown",
      "metadata": {
        "id": "uPgIJJuSFehT"
      },
      "source": [
        "**Instructions** ❗️❗️\n",
        "\n",
        "Use the pre-defined linked list class/functions to create a linked list"
      ]
    },
    {
      "cell_type": "markdown",
      "metadata": {
        "id": "WIwpW7Q2FehT"
      },
      "source": [
        "1. Create a Singly linked list named **num_list** and print all of its elements. `(5 points)`\n",
        "\n",
        "- **num_list** should contain all digits of your student number.\n",
        "\n",
        "    **Expected Output:**\n",
        "\n",
        "    print(num_list)\n",
        "\n",
        "    [2, 0, 2, 2, 1, 2, 3, 4, 5, 6]"
      ]
    },
    {
      "cell_type": "code",
      "execution_count": 46,
      "metadata": {
        "id": "Lihv0JPiFehT",
        "outputId": "9e1fd6af-6b1a-4501-f8d2-bd4c0199a6ba",
        "colab": {
          "base_uri": "https://localhost:8080/"
        }
      },
      "outputs": [
        {
          "output_type": "stream",
          "name": "stdout",
          "text": [
            "[2, 0, 2, 2, 1, 0, 3, 0, 5, 3]\n"
          ]
        }
      ],
      "source": [
        "# Define the Node class\n",
        "class Node:\n",
        "\n",
        "    def __init__(self, data):\n",
        "        self.data = data\n",
        "        self.next = None  # null\n",
        "\n",
        "# Define the LinkedList class\n",
        "class LinkedList:\n",
        "\n",
        "    def __init__(self):\n",
        "        self.head = None\n",
        "\n",
        "    def traverse(self, node):\n",
        "        while node:\n",
        "            print(node.data, end=\" -> \")\n",
        "            node = node.next\n",
        "\n",
        "\n",
        "def append_to_linked_list(linked_list, data):\n",
        "    new_node = Node(data)\n",
        "    if linked_list.head is None:\n",
        "        linked_list.head = new_node\n",
        "    else:\n",
        "        current_node = linked_list.head\n",
        "        while current_node.next:\n",
        "            current_node = current_node.next\n",
        "        current_node.next = new_node\n",
        "\n",
        "\n",
        "student_number = [2, 0, 2, 2, 1, 0, 3, 0, 5, 3]\n",
        "num_list = LinkedList()\n",
        "\n",
        "for digit in student_number:\n",
        "    append_to_linked_list(num_list, digit)\n",
        "\n",
        "\n",
        "def print_linked_list_as_list(linked_list):\n",
        "    result = []\n",
        "    current_node = linked_list.head\n",
        "    while current_node:\n",
        "        result.append(current_node.data)\n",
        "        current_node = current_node.next\n",
        "    return result\n",
        "\n",
        "# Print the num_list\n",
        "print(print_linked_list_as_list(num_list))\n"
      ]
    },
    {
      "cell_type": "markdown",
      "metadata": {
        "id": "dqA2UYrYFehT"
      },
      "source": [
        "2. Write a `hasPrime()` function to test whether a prime number is in the last six digits of **num_list**. `(5 points)`\n",
        "\n",
        "- If a prime number is in the last six digits of **num_list**, the method should return **true**\n",
        "\n",
        "- If a prime number is not in the last six digits of **num_list**, the method should return **false**\n",
        "\n",
        "    **Expected Output:**\n",
        "\n",
        "    hasPrime(num_list)\n",
        "\n",
        "    True"
      ]
    },
    {
      "cell_type": "code",
      "execution_count": 18,
      "metadata": {
        "id": "GYwsQNz5FehT",
        "outputId": "10c7c2c1-b989-4f86-dd91-429b6637c95b",
        "colab": {
          "base_uri": "https://localhost:8080/"
        }
      },
      "outputs": [
        {
          "output_type": "stream",
          "name": "stdout",
          "text": [
            "True\n"
          ]
        }
      ],
      "source": [
        "class Node:\n",
        "\n",
        "    def __init__(self, data):\n",
        "        self.data = data\n",
        "        self.next = None  # null\n",
        "\n",
        "\n",
        "class LinkedList:\n",
        "\n",
        "    def __init__(self):\n",
        "        self.head = None\n",
        "\n",
        "    def traverse(self, node):\n",
        "        while node:\n",
        "            print(node.data, end=\" -> \")\n",
        "            node = node.next\n",
        "\n",
        "\n",
        "\n",
        "def append_to_linked_list(linked_list, data):\n",
        "    new_node = Node(data)\n",
        "    if linked_list.head is None:\n",
        "        linked_list.head = new_node\n",
        "    else:\n",
        "        current_node = linked_list.head\n",
        "        while current_node.next:\n",
        "            current_node = current_node.next\n",
        "        current_node.next = new_node\n",
        "\n",
        "# Create the num_list with your student number digits\n",
        "student_number = [2, 0, 2, 2, 1, 0, 3, 0, 5, 3]\n",
        "num_list = LinkedList()\n",
        "\n",
        "for digit in student_number:\n",
        "    append_to_linked_list(num_list, digit)\n",
        "\n",
        "\n",
        "def is_prime(n):\n",
        "    if n <= 1:\n",
        "        return False\n",
        "    elif n <= 3:\n",
        "        return True\n",
        "    elif n % 2 == 0 or n % 3 == 0:\n",
        "        return False\n",
        "    i = 5\n",
        "    while i * i <= n:\n",
        "        if n % i == 0 or n % (i + 2) == 0:\n",
        "            return False\n",
        "        i += 6\n",
        "    return True\n",
        "\n",
        "\n",
        "def hasPrime(linked_list):\n",
        "    current_node = linked_list.head\n",
        "    last_six_digits = []\n",
        "\n",
        "\n",
        "    while current_node:\n",
        "        last_six_digits.append(current_node.data)\n",
        "        if len(last_six_digits) > 6:\n",
        "            last_six_digits.pop(0)\n",
        "        current_node = current_node.next\n",
        "\n",
        "\n",
        "    for digit in last_six_digits:\n",
        "        if is_prime(digit):\n",
        "            return True\n",
        "\n",
        "    return False\n",
        "\n",
        "\n",
        "result = hasPrime(num_list)\n",
        "print(result)\n"
      ]
    },
    {
      "cell_type": "markdown",
      "metadata": {
        "id": "5Qb0BOiwFehT"
      },
      "source": [
        "3. Write a `removeZeroes()` function to remove all occurrences of zeroes in **num_list**. `(5 points)`\n",
        "\n",
        "- If a zero is in **num_list**, return **num_list**\n",
        "\n",
        "- If there are no zeroes in **num_list**, return **\"no zeros found\"**\n",
        "\n",
        "    **Expected Output:**\n",
        "\n",
        "    removeZeroes(num_list)\n",
        "\n",
        "    [2, 2, 1, 2, 3, 4, 5, 6]"
      ]
    },
    {
      "cell_type": "code",
      "execution_count": 22,
      "metadata": {
        "id": "k1vAHUYuFehT",
        "outputId": "284cff07-a870-4d2d-9e62-ce912c76ddc5",
        "colab": {
          "base_uri": "https://localhost:8080/"
        }
      },
      "outputs": [
        {
          "output_type": "stream",
          "name": "stdout",
          "text": [
            "[2, 2, 2, 1, 3, 5, 3]\n"
          ]
        }
      ],
      "source": [
        "class Node:\n",
        "\n",
        "    def __init__(self, data):\n",
        "        self.data = data\n",
        "        self.next = None\n",
        "\n",
        "class LinkedList:\n",
        "\n",
        "    def __init__(self):\n",
        "        self.head = None\n",
        "\n",
        "    def traverse(self, node):\n",
        "        while node:\n",
        "            print(node.data, end=\" -> \")\n",
        "            node = node.next\n",
        "\n",
        "\n",
        "def append_to_linked_list(linked_list, data):\n",
        "    new_node = Node(data)\n",
        "    if linked_list.head is None:\n",
        "        linked_list.head = new_node\n",
        "    else:\n",
        "        current_node = linked_list.head\n",
        "        while current_node.next:\n",
        "            current_node = current_node.next\n",
        "        current_node.next = new_node\n",
        "\n",
        "#  student number digits\n",
        "student_number = [2, 0, 2, 2, 1, 0, 3, 0, 5, 3]\n",
        "num_list = LinkedList()\n",
        "\n",
        "for digit in student_number:\n",
        "    append_to_linked_list(num_list, digit)\n",
        "\n",
        "\n",
        "def removeZeroes(linked_list):\n",
        "    current_node = linked_list.head\n",
        "    prev_node = None\n",
        "\n",
        "    while current_node:\n",
        "        if current_node.data == 0:\n",
        "            if prev_node is None:\n",
        "\n",
        "                linked_list.head = current_node.next\n",
        "            else:\n",
        "                prev_node.next = current_node.next\n",
        "        else:\n",
        "            prev_node = current_node\n",
        "\n",
        "        current_node = current_node.next\n",
        "\n",
        "\n",
        "removeZeroes(num_list)\n",
        "\n",
        "\n",
        "def print_linked_list_as_list(linked_list):\n",
        "    result = []\n",
        "    current_node = linked_list.head\n",
        "    while current_node:\n",
        "        result.append(current_node.data)\n",
        "        current_node = current_node.next\n",
        "    return result\n",
        "\n",
        "result_list = print_linked_list_as_list(num_list)\n",
        "print(result_list)\n"
      ]
    },
    {
      "cell_type": "markdown",
      "metadata": {
        "id": "SKAlpglNFehT"
      },
      "source": [
        "4. Insert a dash symbol between the 4th and 5th digit in **num_list**. `(5 points)`\n",
        "\n",
        "    **Expected Output:**\n",
        "\n",
        "    print(num_list)\n",
        "\n",
        "    [2, 0, 2, 2, \"-\", 1, 2, 3, 4, 5, 6]"
      ]
    },
    {
      "cell_type": "code",
      "execution_count": 24,
      "metadata": {
        "id": "vF7fimZ-FehT",
        "outputId": "c85701b0-476c-46c4-fbde-1d492c0dce15",
        "colab": {
          "base_uri": "https://localhost:8080/"
        }
      },
      "outputs": [
        {
          "output_type": "stream",
          "name": "stdout",
          "text": [
            "[2, 0, 2, 2, '-', 1, 0, 3, 0, 5, 3]\n"
          ]
        }
      ],
      "source": [
        "class Node:\n",
        "\n",
        "    def __init__(self, data):\n",
        "        self.data = data\n",
        "        self.next = None  # null\n",
        "\n",
        "\n",
        "class LinkedList:\n",
        "\n",
        "    def __init__(self):\n",
        "        self.head = None\n",
        "\n",
        "    def traverse(self, node):\n",
        "        while node:\n",
        "            print(node.data, end=\" -> \")\n",
        "            node = node.next\n",
        "\n",
        "\n",
        "def append_to_linked_list(linked_list, data):\n",
        "    new_node = Node(data)\n",
        "    if linked_list.head is None:\n",
        "        linked_list.head = new_node\n",
        "    else:\n",
        "        current_node = linked_list.head\n",
        "        while current_node.next:\n",
        "            current_node = current_node.next\n",
        "        current_node.next = new_node\n",
        "\n",
        "#student number digits\n",
        "student_number = [2, 0, 2, 2, 1, 0, 3, 0, 5, 3]\n",
        "num_list = LinkedList()\n",
        "\n",
        "for digit in student_number:\n",
        "    append_to_linked_list(num_list, digit)\n",
        "\n",
        "\n",
        "def insertDash(linked_list):\n",
        "    current_node = linked_list.head\n",
        "    count = 1\n",
        "\n",
        "    while current_node:\n",
        "        if count == 4:\n",
        "\n",
        "            new_node = Node(\"-\")\n",
        "            new_node.next = current_node.next\n",
        "            current_node.next = new_node\n",
        "            count += 1\n",
        "        else:\n",
        "            count += 1\n",
        "        current_node = current_node.next\n",
        "\n",
        "\n",
        "insertDash(num_list)\n",
        "\n",
        "\n",
        "def print_linked_list_as_list(linked_list):\n",
        "    result = []\n",
        "    current_node = linked_list.head\n",
        "    while current_node:\n",
        "        result.append(current_node.data)\n",
        "        current_node = current_node.next\n",
        "    return result\n",
        "\n",
        "print(print_linked_list_as_list(num_list))\n",
        "\n"
      ]
    },
    {
      "cell_type": "markdown",
      "metadata": {
        "id": "KkC-LgdxFehT"
      },
      "source": [
        "## Stack"
      ]
    },
    {
      "cell_type": "code",
      "execution_count": null,
      "metadata": {
        "id": "UYTqB1u_FehU"
      },
      "outputs": [],
      "source": [
        "# Creating a stack\n",
        "def create_stack():\n",
        "    stack = []\n",
        "    return stack\n",
        "\n",
        "\n",
        "def print_stack(stack):\n",
        "\n",
        "    if (check_empty(stack)):\n",
        "        return \"stack is empty\"\n",
        "\n",
        "    # Create a copy of the stack and reverse the elements\n",
        "    tempStack = stack.copy()\n",
        "    tempStack.reverse()\n",
        "\n",
        "    # Print all elements using a loop\n",
        "    for i in tempStack:\n",
        "        print(i)\n",
        "\n",
        "    # Delete the copy to free up memory\n",
        "    del tempStack\n",
        "\n",
        "# Creating an empty stack\n",
        "\n",
        "\n",
        "def check_empty(stack):\n",
        "    return len(stack) == 0\n",
        "\n",
        "\n",
        "# Adding items into the stack\n",
        "def push(stack, item):\n",
        "    stack.append(item)\n",
        "    print(\"pushed item: \" + item)\n",
        "\n",
        "\n",
        "# Removing an element from the stack\n",
        "def pop(stack):\n",
        "    if (check_empty(stack)):\n",
        "        return \"stack is empty\"\n",
        "\n",
        "    return stack.pop()\n",
        "\n",
        "\n",
        "def peek(stack):\n",
        "\n",
        "    # Use negative indexing to display the last element of the list\n",
        "    print(stack[-1])"
      ]
    },
    {
      "cell_type": "markdown",
      "metadata": {
        "id": "wLAQchs8FehU"
      },
      "source": [
        "**Instructions** ❗️❗️\n",
        "\n",
        "Use the pre-defined stack class/functions to create a stack"
      ]
    },
    {
      "cell_type": "markdown",
      "metadata": {
        "id": "37cg9BoCFehU"
      },
      "source": [
        "1. Create two (2) stacks named **name_stack** and **num_stack** `(5 points)`\n",
        "\n",
        "- **name_stack** should contain all letters of your first name.\n",
        "- **num_stack** should contain all digits of your student number.\n",
        "\n",
        "    **Expected Output:**\n",
        "\n",
        "    print(name_stack)\n",
        "\n",
        "    ['E', 'L', 'I', 'Z', 'E', 'R']\n",
        "\n",
        "    print(num_stack)\n",
        "\n",
        "    [2,0,2,2,1,2,3,4,5,6]"
      ]
    },
    {
      "cell_type": "code",
      "execution_count": 57,
      "metadata": {
        "id": "HlUIUQzQFehU",
        "outputId": "66a3e032-5836-4fca-ce65-f81270c2adeb",
        "colab": {
          "base_uri": "https://localhost:8080/"
        }
      },
      "outputs": [
        {
          "output_type": "stream",
          "name": "stdout",
          "text": [
            "['J', 'A', 'Y', 'V', 'E', 'E']\n",
            "[2, 0, 2, 2, 1, 0, 3, 0, 5, 3]\n"
          ]
        }
      ],
      "source": [
        "# Creating a stack\n",
        "def create_stack():\n",
        "    stack = []\n",
        "    return stack\n",
        "\n",
        "# Printing the stack\n",
        "def print_stack(stack):\n",
        "    if check_empty(stack):\n",
        "        print(\"stack is empty\")\n",
        "        return\n",
        "\n",
        "    # Create a copy of the stack and reverse the elements\n",
        "    tempStack = stack.copy()\n",
        "    tempStack.reverse()\n",
        "\n",
        "    # Print all elements using a loop\n",
        "    for item in tempStack:\n",
        "        print(item)\n",
        "\n",
        "    # Delete the copy to free up memory\n",
        "    del tempStack\n",
        "\n",
        "\n",
        "def check_empty(stack):\n",
        "    return len(stack) == 0\n",
        "\n",
        "\n",
        "def push(stack, item):\n",
        "    stack.append(item)\n",
        "\n",
        "\n",
        "def pop(stack):\n",
        "    if check_empty(stack):\n",
        "        return \"stack is empty\"\n",
        "    return stack.pop()\n",
        "\n",
        "\n",
        "def peek(stack):\n",
        "    if check_empty(stack):\n",
        "        return \"stack is empty\"\n",
        "    print(\"Top item:\", stack[-1])\n",
        "\n",
        "\n",
        "name_stack = create_stack()\n",
        "num_stack = create_stack()\n",
        "\n",
        "\n",
        "first_name = \"JAYVEE\"\n",
        "student_number = \"2022103053\"\n",
        "\n",
        "\n",
        "for letter in first_name:\n",
        "    push(name_stack, letter)\n",
        "\n",
        "\n",
        "for digit in student_number:\n",
        "    push(num_stack, int(digit))\n",
        "\n",
        "print(name_stack)\n",
        "print(num_stack)\n"
      ]
    },
    {
      "cell_type": "markdown",
      "metadata": {
        "id": "8cySe9LXFehU"
      },
      "source": [
        "2. Create a stack named **my_stack** that follows the following format: `(5 points)`\n",
        "\n",
        "- The first element should be the **5th digit in your student number**\n",
        "- The succeeding elements should be the letters of your **first name**\n",
        "- The last element should be the **last digit of your student number**\n",
        "\n",
        "    **Expected Output:**\n",
        "\n",
        "    my_stack = [1, E, L, I, Z, E, R, 6]"
      ]
    },
    {
      "cell_type": "code",
      "execution_count": 35,
      "metadata": {
        "id": "bEnCoAhjFehU",
        "outputId": "73892ed7-3cfc-4b66-ed71-2e897195067c",
        "colab": {
          "base_uri": "https://localhost:8080/"
        }
      },
      "outputs": [
        {
          "output_type": "stream",
          "name": "stdout",
          "text": [
            "[1, 'J', 'A', 'Y', 'V', 'E', 'E', 3]\n"
          ]
        }
      ],
      "source": [
        "# Creating a stack\n",
        "def create_stack():\n",
        "    stack = []\n",
        "    return stack\n",
        "\n",
        "# Creating an empty stack\n",
        "def check_empty(stack):\n",
        "    return len(stack) == 0\n",
        "\n",
        "# Adding items into the stack\n",
        "def push(stack, item):\n",
        "    stack.append(item)\n",
        "\n",
        "# Removing an element from the stack\n",
        "def pop(stack):\n",
        "    if check_empty(stack):\n",
        "        return \"stack is empty\"\n",
        "    return stack.pop()\n",
        "\n",
        "\n",
        "my_stack = create_stack()\n",
        "\n",
        "\n",
        "first_name = \"JAYVEE\"\n",
        "student_number = \"2022103053\"\n",
        "\n",
        "\n",
        "push(my_stack, int(student_number[4]))\n",
        "\n",
        "\n",
        "for letter in first_name:\n",
        "    push(my_stack, letter)\n",
        "\n",
        "\n",
        "push(my_stack, int(student_number[-1]))\n",
        "\n",
        "\n",
        "print(my_stack)\n"
      ]
    },
    {
      "cell_type": "markdown",
      "metadata": {
        "id": "8a8_KP5nFehU"
      },
      "source": [
        "3. Write a `verifyStack()` function that will take in `my_stack` and check if its format has been followed `(10 points)`\n",
        "\n",
        "- Return **True** if the format has been followed\n",
        "- Return **False** if the format was not followed\n",
        "- Verify the format by checking the contents of **my_stack** with **name_stack** and **num_stack**\n",
        "\n",
        "    **Expected Output:**\n",
        "\n",
        "    my_stack = [1, E, L, I, Z, E, R, 6]\n",
        "\n",
        "    verifyStack(my_stack)\n",
        "\n",
        "    True\n",
        "\n",
        "    my_stack = [1, S, L, I, Z, E, R, 7]\n",
        "\n",
        "    verifyStack(my_stack)\n",
        "\n",
        "    False"
      ]
    },
    {
      "cell_type": "code",
      "execution_count": 58,
      "metadata": {
        "id": "RdANSxD0FehU",
        "outputId": "849f8b27-e2d1-49b0-99ed-273ac9813992",
        "colab": {
          "base_uri": "https://localhost:8080/"
        }
      },
      "outputs": [
        {
          "output_type": "stream",
          "name": "stdout",
          "text": [
            "[1, 'J', 'A', 'Y', 'V', 'E', 'E', 3]\n",
            "False\n"
          ]
        }
      ],
      "source": [
        "# put your answer here\n",
        "# Creating a stack\n",
        "def create_stack():\n",
        "    stack = []\n",
        "    return stack\n",
        "\n",
        "# Creating an empty stack\n",
        "def check_empty(stack):\n",
        "    return len(stack) == 0\n",
        "\n",
        "# Adding items into the stack\n",
        "def push(stack, item):\n",
        "    stack.append(item)\n",
        "\n",
        "# Removing an element from the stack\n",
        "def pop(stack):\n",
        "    if check_empty(stack):\n",
        "        return \"stack is empty\"\n",
        "    return stack.pop()\n",
        "\n",
        "\n",
        "my_stack = create_stack()\n",
        "\n",
        "\n",
        "first_name = \"JAYVEE\"\n",
        "student_number = \"2022103053\"\n",
        "\n",
        "\n",
        "push(my_stack, int(student_number[4]))\n",
        "\n",
        "\n",
        "for letter in first_name:\n",
        "    push(my_stack, letter)\n",
        "\n",
        "\n",
        "push(my_stack, int(student_number[-1]))\n",
        "\n",
        "\n",
        "name_stack = [first_name[i] for i in range(len(first_name))]\n",
        "num_stack = [int(student_number[i]) for i in range(4, 9)]\n",
        "\n",
        "\n",
        "def verifyStack(stack):\n",
        "\n",
        "    if stack == [num_stack[0]] + name_stack + [num_stack[-1]]:\n",
        "        return True\n",
        "    else:\n",
        "        return False\n",
        "\n",
        "\n",
        "print(my_stack)\n",
        "\n",
        "\n",
        "result = verifyStack(my_stack)\n",
        "\n",
        "\n",
        "print(result)\n"
      ]
    },
    {
      "cell_type": "markdown",
      "metadata": {
        "id": "UC5C64B2FehU"
      },
      "source": [
        "## Queue"
      ]
    },
    {
      "cell_type": "code",
      "execution_count": null,
      "metadata": {
        "id": "NJJ0j0LHFehU"
      },
      "outputs": [],
      "source": [
        "class Queue:\n",
        "    def __init__(self):\n",
        "        self.queue = []\n",
        "\n",
        "    # Add an element\n",
        "    def enqueue(self, item):\n",
        "        self.queue.append(item)\n",
        "\n",
        "    # Remove an element\n",
        "    def dequeue(self):\n",
        "        if len(self.queue) < 1:\n",
        "            return None\n",
        "        return self.queue.pop(0)\n",
        "\n",
        "    # Display  the queue\n",
        "    def display(self):\n",
        "        print(self.queue)\n",
        "\n",
        "    def size(self):\n",
        "        return len(self.queue)\n",
        "\n",
        "    def peek(self):\n",
        "        return self.queue[0]"
      ]
    },
    {
      "cell_type": "markdown",
      "metadata": {
        "id": "80OekpbeFehV"
      },
      "source": [
        "**Instructions** ❗️❗️\n",
        "\n",
        "Use the pre-defined queue class/functions to create a Queue"
      ]
    },
    {
      "cell_type": "markdown",
      "metadata": {
        "id": "_Hf0OP5cFehV"
      },
      "source": [
        "1. Create a simple queue named **num_queue** `(5 points)`\n",
        "\n",
        "- **num_queue** should contain all digits of your student number.\n",
        "\n",
        "    **Expected Output:**\n",
        "\n",
        "    print(num_queue)\n",
        "\n",
        "    [2,0,2,2,1,2,3,4,5,6]"
      ]
    },
    {
      "cell_type": "code",
      "execution_count": 39,
      "metadata": {
        "id": "_mgmE4ArFehV",
        "outputId": "50ec04e3-7b6a-4835-9a09-3e1330dcdeb4",
        "colab": {
          "base_uri": "https://localhost:8080/"
        }
      },
      "outputs": [
        {
          "output_type": "stream",
          "name": "stdout",
          "text": [
            "[2, 0, 2, 2, 1, 0, 3, 0, 5, 3]\n"
          ]
        }
      ],
      "source": [
        "class Queue:\n",
        "    def __init__(self):\n",
        "        self.queue = []\n",
        "\n",
        "    # Add an element\n",
        "    def enqueue(self, item):\n",
        "        self.queue.append(item)\n",
        "\n",
        "    # Remove an element\n",
        "    def dequeue(self):\n",
        "        if len(self.queue) < 1:\n",
        "            return None\n",
        "        return self.queue.pop(0)\n",
        "\n",
        "    # Display the queue\n",
        "    def display(self):\n",
        "        print(self.queue)\n",
        "\n",
        "    def size(self):\n",
        "        return len(self.queue)\n",
        "\n",
        "    def peek(self):\n",
        "        return self.queue[0]\n",
        "\n",
        "# Create a simple queue named num_queue\n",
        "num_queue = Queue()\n",
        "\n",
        "# Define your student number as a string\n",
        "student_number = \"2022103053\"\n",
        "\n",
        "# Add each digit of your student number to num_queue\n",
        "for digit in student_number:\n",
        "    num_queue.enqueue(int(digit))  # Convert the digit to an integer\n",
        "\n",
        "# Display the contents of num_queue\n",
        "num_queue.display()\n"
      ]
    },
    {
      "cell_type": "markdown",
      "metadata": {
        "id": "1pHG8t6DFehV"
      },
      "source": [
        "2. Write a `getMax()` or `getMin()` function for **num_queue** `(5 points)`\n",
        "\n",
        "- If your student number ends with an odd number, create a `getMax()` function that will return the largest number in **num_queue**\n",
        "- If your student number ends with an even number, create a `getMin()` function that will return the lowest number in **num_queue**\n",
        "\n",
        "    **Expected Output for getMax():**\n",
        "\n",
        "    getMax(num_queue)\n",
        "\n",
        "    6\n",
        "\n",
        "    **Expected Output for getMin():**\n",
        "\n",
        "    getMin(num_queue)\n",
        "\n",
        "    0"
      ]
    },
    {
      "cell_type": "code",
      "execution_count": 40,
      "metadata": {
        "id": "itj2U610FehV",
        "outputId": "9bec8253-445f-4331-cfc5-8b3764f9e1cf",
        "colab": {
          "base_uri": "https://localhost:8080/"
        }
      },
      "outputs": [
        {
          "output_type": "stream",
          "name": "stdout",
          "text": [
            "[2, 0, 2, 2, 1, 0, 3, 0, 5, 3]\n",
            "Maximum number in num_queue: 5\n"
          ]
        }
      ],
      "source": [
        "# put your answer here\n",
        "class Queue:\n",
        "    def __init__(self):\n",
        "        self.queue = []\n",
        "\n",
        "    # Add an element\n",
        "    def enqueue(self, item):\n",
        "        self.queue.append(item)\n",
        "\n",
        "    # Remove an element\n",
        "    def dequeue(self):\n",
        "        if len(self.queue) < 1:\n",
        "            return None\n",
        "        return self.queue.pop(0)\n",
        "\n",
        "    # Display the queue\n",
        "    def display(self):\n",
        "        print(self.queue)\n",
        "\n",
        "    def size(self):\n",
        "        return len(self.queue)\n",
        "\n",
        "    def peek(self):\n",
        "        return self.queue[0]\n",
        "\n",
        "    def getMax(self):\n",
        "        if len(self.queue) == 0:\n",
        "            return None\n",
        "        return max(self.queue)\n",
        "\n",
        "    def getMin(self):\n",
        "        if len(self.queue) == 0:\n",
        "            return None\n",
        "        return min(self.queue)\n",
        "\n",
        "# Create a simple queue named num_queue\n",
        "num_queue = Queue()\n",
        "\n",
        "# Define your student number as a string\n",
        "student_number = \"2022103053\"\n",
        "\n",
        "# Add each digit of your student number to num_queue\n",
        "for digit in student_number:\n",
        "    num_queue.enqueue(int(digit))  # Convert the digit to an integer\n",
        "\n",
        "# Display the contents of num_queue\n",
        "num_queue.display()\n",
        "\n",
        "r\n",
        "last_digit = int(student_number[-1])\n",
        "\n",
        "if last_digit % 2 == 1:\n",
        "\n",
        "    max_num = num_queue.getMax()\n",
        "    print(\"Maximum number in num_queue:\", max_num)\n",
        "else:\n",
        "\n",
        "    min_num = num_queue.getMin()\n",
        "    print(\"Minimum number in num_queue:\", min_num)\n"
      ]
    },
    {
      "cell_type": "markdown",
      "metadata": {
        "id": "YkgmP6GwFehV"
      },
      "source": [
        "3. Write a `getOdd()` or `getEven()` function for  **num_queue** `(5 points)`\n",
        "\n",
        "- If your student number ends with an **odd number**, create a `getOdd()` function that will return all odd numbers in **num_queue**\n",
        "- If your student number ends with an **even number**, create a `getEven()` function that will return all even numbers in **num_queue**\n",
        "\n",
        "    **Expected Output for getOdd():**\n",
        "\n",
        "    getOdd(num_queue)\n",
        "\n",
        "    [1, 3, 5]\n",
        "\n",
        "    **Expected Output for getEven():**\n",
        "\n",
        "    getEven(num_queue)\n",
        "\n",
        "    [0, 2, 4, 6]"
      ]
    },
    {
      "cell_type": "code",
      "execution_count": 41,
      "metadata": {
        "id": "2Bc7E1zNFehV",
        "outputId": "8a9a6fd7-9ef8-41e6-b19e-690ae9cd1505",
        "colab": {
          "base_uri": "https://localhost:8080/"
        }
      },
      "outputs": [
        {
          "output_type": "stream",
          "name": "stdout",
          "text": [
            "[2, 0, 2, 2, 1, 0, 3, 0, 5, 3]\n",
            "Odd numbers in num_queue: [1, 3, 5, 3]\n"
          ]
        }
      ],
      "source": [
        "# put your answer here\n",
        "class Queue:\n",
        "    def __init__(self):\n",
        "        self.queue = []\n",
        "\n",
        "    # Add an element\n",
        "    def enqueue(self, item):\n",
        "        self.queue.append(item)\n",
        "\n",
        "    # Remove an element\n",
        "    def dequeue(self):\n",
        "        if len(self.queue) < 1:\n",
        "            return None\n",
        "        return self.queue.pop(0)\n",
        "\n",
        "    # Display the queue\n",
        "    def display(self):\n",
        "        print(self.queue)\n",
        "\n",
        "    def size(self):\n",
        "        return len(self.queue)\n",
        "\n",
        "    def peek(self):\n",
        "        return self.queue[0]\n",
        "\n",
        "    def getOdd(self):\n",
        "        return [item for item in self.queue if item % 2 == 1]\n",
        "\n",
        "    def getEven(self):\n",
        "        return [item for item in self.queue if item % 2 == 0]\n",
        "\n",
        "# Create a simple queue named num_queue\n",
        "num_queue = Queue()\n",
        "\n",
        "# Define your student number as a string\n",
        "student_number = \"2022103053\"\n",
        "\n",
        "# Add each digit of your student number to num_queue\n",
        "for digit in student_number:\n",
        "    num_queue.enqueue(int(digit))  # Convert the digit to an integer\n",
        "\n",
        "# Display the contents of num_queue\n",
        "num_queue.display()\n",
        "\n",
        "\n",
        "last_digit = int(student_number[-1])\n",
        "\n",
        "if last_digit % 2 == 1:\n",
        "\n",
        "    odd_numbers = num_queue.getOdd()\n",
        "    print(\"Odd numbers in num_queue:\", odd_numbers)\n",
        "else:\n",
        "\n",
        "    even_numbers = num_queue.getEven()\n",
        "    print(\"Even numbers in num_queue:\", even_numbers)\n"
      ]
    },
    {
      "cell_type": "markdown",
      "metadata": {
        "id": "kuzWF5g4FehV"
      },
      "source": [
        "4. Write a `removeDup()` function that will remove all duplicates in **num_queue** `(5 points)`\n",
        "\n",
        "    **Expected Output:**\n",
        "\n",
        "    removeDup(num_queue)\n",
        "\n",
        "    [2,0,1,3,4,5,6]"
      ]
    },
    {
      "cell_type": "code",
      "execution_count": 42,
      "metadata": {
        "id": "I8LeQP8MFehY",
        "outputId": "188f3a5a-93de-41f8-b28f-579166b68970",
        "colab": {
          "base_uri": "https://localhost:8080/"
        }
      },
      "outputs": [
        {
          "output_type": "stream",
          "name": "stdout",
          "text": [
            "[2, 0, 2, 2, 1, 0, 3, 0, 5, 3]\n",
            "[2, 0, 1, 3, 5]\n"
          ]
        }
      ],
      "source": [
        "# put your answer here\n",
        "class Queue:\n",
        "    def __init__(self):\n",
        "        self.queue = []\n",
        "\n",
        "    # Add an element\n",
        "    def enqueue(self, item):\n",
        "        self.queue.append(item)\n",
        "\n",
        "    # Remove an element\n",
        "    def dequeue(self):\n",
        "        if len(self.queue) < 1:\n",
        "            return None\n",
        "        return self.queue.pop(0)\n",
        "\n",
        "    # Display the queue\n",
        "    def display(self):\n",
        "        print(self.queue)\n",
        "\n",
        "    def size(self):\n",
        "        return len(self.queue)\n",
        "\n",
        "    def peek(self):\n",
        "        return self.queue[0]\n",
        "\n",
        "    def removeDup(self):\n",
        "\n",
        "        unique_queue = Queue()\n",
        "        seen = set()\n",
        "\n",
        "\n",
        "        while self.size() > 0:\n",
        "            item = self.dequeue()\n",
        "\n",
        "            if item not in seen:\n",
        "                unique_queue.enqueue(item)\n",
        "                seen.add(item)\n",
        "\n",
        "\n",
        "        self.queue = unique_queue.queue\n",
        "\n",
        "\n",
        "num_queue = Queue()\n",
        "\n",
        "\n",
        "student_number = \"2022103053\"\n",
        "\n",
        "\n",
        "for digit in student_number:\n",
        "    num_queue.enqueue(int(digit))\n",
        "\n",
        "num_queue.display()\n",
        "\n",
        "\n",
        "num_queue.removeDup()\n",
        "\n",
        "\n",
        "num_queue.display()\n"
      ]
    },
    {
      "cell_type": "markdown",
      "metadata": {
        "id": "LVfZTh8YFehZ"
      },
      "source": [
        "## Sort"
      ]
    },
    {
      "cell_type": "markdown",
      "metadata": {
        "id": "bm9lonfzFehZ"
      },
      "source": [
        "**Instructions** ❗️❗️\n",
        "\n",
        "Use the any sorting algoritms"
      ]
    },
    {
      "cell_type": "markdown",
      "metadata": {
        "id": "EJTlxhEdFehZ"
      },
      "source": [
        "1. Using any sorting algorithm, sort the **last 6 digits** of your student number in ascending order `(5 points)`\n",
        "\n",
        "    **Example:**\n",
        "\n",
        "    student_number = [2,0,2,2,6,2,5,1,3,4]\n",
        "\n",
        "    **Expected Output:**\n",
        "\n",
        "    print(student_number)\n",
        "\n",
        "    [2,0,2,2,1,2,3,4,5,6]\n"
      ]
    },
    {
      "cell_type": "code",
      "execution_count": 43,
      "metadata": {
        "id": "MkZKfveOFehZ",
        "outputId": "14571e81-612a-4b9e-acca-6889055896eb",
        "colab": {
          "base_uri": "https://localhost:8080/"
        }
      },
      "outputs": [
        {
          "output_type": "stream",
          "name": "stdout",
          "text": [
            "[2, 0, 2, 2, 1, 0, 3, 0, 5, 3]\n"
          ]
        }
      ],
      "source": [
        "\n",
        "# Bubble sort in Python\n",
        "def bubbleSort(array):\n",
        "    # Loop to access each array element\n",
        "    for i in range(len(array)):\n",
        "        # Loop to compare array elements\n",
        "        for j in range(0, len(array) - i - 1):\n",
        "            # Compare two adjacent elements\n",
        "            # Change > to < to sort in descending order\n",
        "            if array[j] > array[j + 1]:\n",
        "                # Swapping elements if elements\n",
        "                # are not in the intended order\n",
        "                temp = array[j]\n",
        "                array[j] = array[j + 1]\n",
        "                array[j + 1] = temp\n",
        "\n",
        "# Define your student number as a list of digits\n",
        "student_number = [2, 0, 2, 2, 1, 0, 3, 0, 5, 3]\n",
        "\n",
        "# Sort the last 6 digits in ascending order using bubble sort\n",
        "bubbleSort(student_number[-6:])\n",
        "\n",
        "# Print the sorted student_number\n",
        "print(student_number)\n"
      ]
    },
    {
      "cell_type": "markdown",
      "metadata": {
        "id": "sC2JZRZMFehZ"
      },
      "source": [
        "2. Using your student_number, separately sort the even numbers in **increasing order** and the odd numbers in **decreasing order** `(15 points)`\n",
        "\n",
        "    **Example:**\n",
        "\n",
        "    student_number = [2,0,2,2,1,2,3,4,5,6]\n",
        "\n",
        "    **Expected Output:**\n",
        "\n",
        "    print(student_number)\n",
        "\n",
        "    [0,2,2,2,2,4,6,5,3,1]"
      ]
    },
    {
      "cell_type": "code",
      "execution_count": 44,
      "metadata": {
        "id": "hWOh_ohcFehZ",
        "outputId": "78ac5b79-e262-4a70-d471-cebc5ab6ca90",
        "colab": {
          "base_uri": "https://localhost:8080/"
        }
      },
      "outputs": [
        {
          "output_type": "stream",
          "name": "stdout",
          "text": [
            "[0, 0, 0, 2, 2, 2, 5, 3, 3, 1]\n"
          ]
        }
      ],
      "source": [
        "# put your answer here\n",
        "# Bubble sort in Python\n",
        "def bubbleSort(array):\n",
        "\n",
        "    # Loop to access each array element\n",
        "    for i in range(len(array)):\n",
        "        # Loop to compare array elements\n",
        "        for j in range(0, len(array) - i - 1):\n",
        "            # Compare two adjacent elements\n",
        "            if array[j] > array[j + 1]:\n",
        "                # Swapping elements if elements\n",
        "                # are not in the intended order\n",
        "                temp = array[j]\n",
        "                array[j] = array[j + 1]\n",
        "                array[j + 1] = temp\n",
        "\n",
        "# Define your student number as a list of digits\n",
        "student_number = [2, 0, 2, 2, 1, 0, 3, 0, 5, 3]\n",
        "\n",
        "# Separate even and odd numbers\n",
        "even_numbers = [num for num in student_number if num % 2 == 0]\n",
        "odd_numbers = [num for num in student_number if num % 2 != 0]\n",
        "\n",
        "\n",
        "bubbleSort(even_numbers)\n",
        "\n",
        "\n",
        "bubbleSort(odd_numbers)\n",
        "odd_numbers.reverse()\n",
        "\n",
        "\n",
        "sorted_numbers = even_numbers + odd_numbers\n",
        "\n",
        "# Print the sorted student_number\n",
        "print(sorted_numbers)\n"
      ]
    }
  ],
  "metadata": {
    "kernelspec": {
      "display_name": "Python 3",
      "language": "python",
      "name": "python3"
    },
    "language_info": {
      "codemirror_mode": {
        "name": "ipython",
        "version": 3
      },
      "file_extension": ".py",
      "mimetype": "text/x-python",
      "name": "python",
      "nbconvert_exporter": "python",
      "pygments_lexer": "ipython3",
      "version": "3.9.13"
    },
    "orig_nbformat": 4,
    "colab": {
      "provenance": [],
      "include_colab_link": true
    }
  },
  "nbformat": 4,
  "nbformat_minor": 0
}